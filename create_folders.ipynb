{
 "cells": [
  {
   "cell_type": "code",
   "execution_count": 1,
   "metadata": {},
   "outputs": [],
   "source": [
    "import numpy as np\n",
    "import os\n",
    "import shutil"
   ]
  },
  {
   "cell_type": "code",
   "execution_count": 9,
   "metadata": {},
   "outputs": [],
   "source": [
    "for i in range(5):\n",
    "    j=0\n",
    "    count=0\n",
    "    k=0;\n",
    "    folder_location= os.path.join(\"/home/justdial/hotels_images/\",str(i))\n",
    "    for images in os.listdir(folder_location):\n",
    "        if not os.path.exists(os.path.join(folder_location+\"/\",str(count))):\n",
    "            os.makedirs(os.path.join(folder_location+\"/\",str(count)))\n",
    "        if(k<=10000):\n",
    "            shutil.move(os.path.join(folder_location,images),os.path.join(folder_location+\"/\"+str(count)+\"/\",images))\n",
    "            k+=1\n",
    "        else:\n",
    "            count+=1\n",
    "            k=0"
   ]
  },
  {
   "cell_type": "code",
   "execution_count": null,
   "metadata": {},
   "outputs": [],
   "source": []
  }
 ],
 "metadata": {
  "kernelspec": {
   "display_name": "Python 3",
   "language": "python",
   "name": "python3"
  },
  "language_info": {
   "codemirror_mode": {
    "name": "ipython",
    "version": 3
   },
   "file_extension": ".py",
   "mimetype": "text/x-python",
   "name": "python",
   "nbconvert_exporter": "python",
   "pygments_lexer": "ipython3",
   "version": "3.7.3"
  }
 },
 "nbformat": 4,
 "nbformat_minor": 2
}
